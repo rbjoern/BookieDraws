{
 "cells": [
  {
   "cell_type": "markdown",
   "metadata": {},
   "source": [
    "### Split main data\n",
    "The file quite simply splits the dataset into a test and train dataset.  "
   ]
  },
  {
   "cell_type": "code",
   "execution_count": 1,
   "metadata": {},
   "outputs": [],
   "source": [
    "import pandas as pd \n",
    "import numpy as np\n",
    "import os \n",
    "import sys \n",
    "sys.path.append(r'C:\\Users\\rbjoe\\Dropbox\\Kugejl\\10.semester\\Topics in Social Data Science\\ExamProject\\data')\n",
    "\n",
    "main_df = pd.read_csv('main_df.csv', index_col=0)\n",
    "\n",
    "np.random.seed(33)\n",
    "from sklearn.model_selection import train_test_split\n",
    "\n",
    "data_train, data_test = train_test_split(main_df, test_size = 0.3)\n",
    "\n",
    "data_train.to_csv('data_train.csv')\n",
    "data_test.to_csv('data_test.csv')"
   ]
  },
  {
   "cell_type": "code",
   "execution_count": null,
   "metadata": {},
   "outputs": [],
   "source": []
  }
 ],
 "metadata": {
  "kernelspec": {
   "display_name": "Python 3",
   "language": "python",
   "name": "python3"
  },
  "language_info": {
   "codemirror_mode": {
    "name": "ipython",
    "version": 3
   },
   "file_extension": ".py",
   "mimetype": "text/x-python",
   "name": "python",
   "nbconvert_exporter": "python",
   "pygments_lexer": "ipython3",
   "version": "3.6.5"
  }
 },
 "nbformat": 4,
 "nbformat_minor": 2
}
