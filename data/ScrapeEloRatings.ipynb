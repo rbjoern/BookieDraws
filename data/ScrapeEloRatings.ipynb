{
 "cells": [
  {
   "cell_type": "markdown",
   "metadata": {},
   "source": [
    "### Scraper - Elo ratings\n",
    "The code scrapes elo ratings from clubelo.com"
   ]
  },
  {
   "cell_type": "code",
   "execution_count": 1,
   "metadata": {},
   "outputs": [
    {
     "name": "stdout",
     "output_type": "stream",
     "text": [
      "Finished scraping for team 0\n",
      "No data was scraped for realsociedad\n",
      "Finished scraping for team 50\n",
      "Finished scraping for team 100\n",
      "Finished scraping for team 150\n",
      "Finished scraping for team 200\n",
      "No data was scraped for zaglebie\n",
      "Finished scraping for team 250\n",
      "Sociedad\n",
      "Lubin\n"
     ]
    }
   ],
   "source": [
    "# -*- coding: utf-8 -*-\n",
    "\"\"\"\n",
    "Created on Sun May  6 11:17:37 2018\n",
    "\n",
    "@author: nynne\n",
    "\"\"\"\n",
    "\n",
    "\n",
    "import pandas as pd\n",
    "import os\n",
    "import requests\n",
    "import csv\n",
    "from io import StringIO\n",
    "import unidecode\n",
    "import numpy as np\n",
    "#import regex\n",
    "\n",
    "def clean_names(input_names): #Input must be pandas series\n",
    "    input_names = input_names.replace('[ü]', 'ue', regex=True)\n",
    "    input_names = input_names.replace('[ö]', 'oe', regex=True)\n",
    "    input_names = input_names.replace('[ä]', 'ae', regex=True)\n",
    "    input_names = input_names.replace('[.]', '', regex=True)\n",
    "    vfunc = np.vectorize(unidecode.unidecode)\n",
    "    output_names =  pd.Series(vfunc(input_names)) #Remove special characters\n",
    "    output_names = output_names.str.lower() #Lowercase\n",
    "    output_names = output_names.replace(' ','', regex=True) #Remove space inbetween words\n",
    "    return output_names\n",
    "\n",
    "def import_elo(team):\n",
    "    r = requests.get('http://api.clubelo.com/' + str(team))\n",
    "    data = StringIO(r.text)\n",
    "    df = pd.read_csv(data, sep=\",\")\n",
    "    \n",
    "    if len(df)==0: \n",
    "        print('No data was scraped for', str(team))\n",
    "        \n",
    "    return df\n",
    "\n",
    "teams = pd.read_csv(os.getcwd() + '\\\\work_files\\\\Elo_ratings\\\\Team_names_2.csv', sep=\";\")\n",
    "teams.Club2 = clean_names(teams.Club2)\n",
    "\n",
    "df = pd.DataFrame()\n",
    "for i in range(0,len(teams)):\n",
    "    #print(teams['Club2'][i])\n",
    "    df = df.append(import_elo(teams['Club2'][i]))\n",
    "    if i % 50 == 0: \n",
    "        print('Finished scraping for team', i)\n",
    "del i\n",
    "#\n",
    "#df = pd.read_csv('elo_rating.csv', index_col=0)\n",
    "##manual_adds = ['Koeln', 'Nuernberg', 'StPauli', 'Duesseldorf', 'Fuerth', \n",
    "##                'Zuerich', Sociedad', 'StGallen']\n",
    "manual_adds = ['Sociedad', 'Lubin']\n",
    "for team in manual_adds: \n",
    "    print(team)\n",
    "    df = df.append(import_elo(team))\n",
    "del team, manual_adds\n",
    "    \n",
    "df.From = pd.to_datetime(df['From'])\n",
    "df.To = pd.to_datetime(df['To'])\n",
    "### SAVE FILE\n",
    "df.to_csv(os.getcwd() + '\\\\raw_data\\\\Elo_ratings\\\\elo_rating.csv')\n",
    "\n",
    "\n",
    "\n",
    "########## Matching team names ##############\n",
    "#teams = pd.read_csv(os.getcwd() + '\\\\raw_data\\\\Elo_ratings\\\\team_names_2.csv', sep = \";\") #Index column api\n",
    "#teams_2 =  pd.read_csv(os.getcwd() + '\\\\raw_data\\\\European_soccer\\\\Team.csv', index_col='team_api_id') #Index column api\n",
    "#teams_2 = teams_2.reset_index() #new index \n",
    "#teams_2['team_name'] = clean_names(teams_2.team_long_name)\n",
    "#\n",
    "#teams_2 =teams_2.sort_values(by=['team_name'])\n",
    "#teams = teams.sort_values(by = ['Club2'])\n",
    "#\n",
    "#teams.merge(teams_2, left_on=['Club2'], right_on=['team_name'])\n",
    "#Finished manually"
   ]
  }
 ],
 "metadata": {
  "kernelspec": {
   "display_name": "Python 3",
   "language": "python",
   "name": "python3"
  },
  "language_info": {
   "codemirror_mode": {
    "name": "ipython",
    "version": 3
   },
   "file_extension": ".py",
   "mimetype": "text/x-python",
   "name": "python",
   "nbconvert_exporter": "python",
   "pygments_lexer": "ipython3",
   "version": "3.6.5"
  }
 },
 "nbformat": 4,
 "nbformat_minor": 2
}
