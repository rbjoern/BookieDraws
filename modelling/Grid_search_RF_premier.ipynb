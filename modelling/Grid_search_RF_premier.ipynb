{
 "cells": [
  {
   "cell_type": "markdown",
   "metadata": {},
   "source": [
    "**Grid Search** Random Forest in Premier League"
   ]
  },
  {
   "cell_type": "code",
   "execution_count": 1,
   "metadata": {},
   "outputs": [
    {
     "name": "stdout",
     "output_type": "stream",
     "text": [
      "Rows with any missing values: 0.2\n",
      "Missing values:\n",
      "ELO_home            159\n",
      "ELO_away            154\n",
      "home_agg_overall    122\n",
      "home_def_overall    122\n",
      "away_agg_overall    122\n",
      "away_def_overall    122\n",
      "RR                    0\n",
      "dtype: int64\n",
      "Rows with any missing values: 0.0\n"
     ]
    }
   ],
   "source": [
    "import pandas as pd \n",
    "import numpy as np\n",
    "import os \n",
    "import sys \n",
    "import matplotlib.pyplot as plt\n",
    "import seaborn as sns\n",
    "path = r'C:\\Users\\nynne\\Dropbox\\Polit\\Topics in Social Data Science\\ExamProject\\data'\n",
    "\n",
    "np.random.seed(33)\n",
    "\n",
    "from datetime import datetime \n",
    "time_start = datetime.now()\n",
    "\n",
    "###############################################################################\n",
    "### LOAD DATA\n",
    "data_train = pd.read_csv(path + '\\data_train.csv', index_col=0)\n",
    "data_train = data_train[data_train['league']=='England Premier League']\n",
    "y = data_train['draw']\n",
    "odds_prob = data_train['odds_prob_draw']\n",
    "x = data_train[['ELO_home', 'ELO_away', 'home_agg_overall', 'home_def_overall',\n",
    "                'away_agg_overall', 'away_def_overall', 'RR']]\n",
    "#x = x.join(pd.get_dummies(data_train['league']))#.reset_index(drop='index')))\n",
    "\n",
    "\n",
    "###############################################################################\n",
    "### IMPUTATION \n",
    "#Check for missing values \n",
    "print('Rows with any missing values:', round(x.isnull().any(axis=1).sum()/len(x),2))\n",
    "print('Missing values:\\n', x.isnull().sum(), sep='')\n",
    "\n",
    "## Performance metrics are missing because of burn-in.\n",
    "## Fillout burnin based on later average. \n",
    "x = x.join(data_train[['team_home', 'team_awat']])\n",
    "#x['home_agg_overall'] = x.groupby('team_home').transform(lambda a: a.fillna(a.mean()))\n",
    "x.loc[x['home_agg_overall'].isnull(), 'home_agg_overall'] = x.groupby('team_home')['home_agg_overall'].transform('mean')\n",
    "x.loc[x['home_def_overall'].isnull(), 'home_def_overall'] = x.groupby('team_home')['home_def_overall'].transform('mean')\n",
    "x.loc[x['away_agg_overall'].isnull(), 'away_agg_overall'] = x.groupby('team_awat')['away_agg_overall'].transform('mean')\n",
    "x.loc[x['away_def_overall'].isnull(), 'away_def_overall'] = x.groupby('team_awat')['away_def_overall'].transform('mean')\n",
    "x.drop(['team_home', 'team_awat'], axis=1, inplace=True)\n",
    "\n",
    "#from sklearn.preprocessing import Imputer\n",
    "#x = Imputer(strategy='mean').fit_transform()\n",
    "x = x.fillna(x.mean())\n",
    "\n",
    "\n",
    "print('Rows with any missing values:', round(x.isnull().any(axis=1).sum()/len(x),2))\n",
    "#print('Missing values:\\n', x.isnull().sum(), sep='')\n",
    "\n",
    "###############################################################################\n",
    "### STANDARDIZE\n",
    "from sklearn.preprocessing import StandardScaler\n",
    "scaler = StandardScaler().fit(x.iloc[:,:7])\n",
    "x.iloc[:,:7] = scaler.transform(x.iloc[:,:7])\n",
    "\n"
   ]
  },
  {
   "cell_type": "code",
   "execution_count": 2,
   "metadata": {},
   "outputs": [],
   "source": [
    "##################################################################################\n",
    "#####################Define Functions#############################\n",
    "def bet_income(y, prob, odds_prob, bet=1, threshold=0.0):\n",
    "    will_bet = (prob>odds_prob+threshold) #Bet if probability high enough\n",
    "    correct_bets = y[will_bet]          # Bet is correct if y==1. Select chosen bets. \n",
    "    odds = 1/odds_prob[will_bet]        # Calculate odds \n",
    "    \n",
    "    #Calculate income\n",
    "    income = correct_bets*odds*bet-will_bet*bet\n",
    "    income = income.sum() #Sum over matrix \n",
    "    \n",
    "    #Calculate income as multiplicator of necessary capital\n",
    "    if will_bet.sum() != 0: \n",
    "        income_factor = income/will_bet.sum() #\n",
    "    else: income_factor = 0\n",
    "    \n",
    "    return income_factor\n",
    "\n",
    "def cross_val_bet(clf_cv, x, y, odds_prob):\n",
    "    fold = KFold(n_splits=10, shuffle=True)\n",
    "    profit = []\n",
    "    for train, test in fold.split(x): \n",
    "        clf_cv.fit(x.iloc[train], y.iloc[train])\n",
    "        yprob = clf_cv.predict_proba(x.iloc[test])\n",
    "        profit.append(bet_income(y.iloc[test], yprob[:,1], odds_prob.iloc[test]))\n",
    "    \n",
    "    return np.mean(profit)\n",
    "\n",
    "def cross_val_par(par, x, y, odds_prob): \n",
    "    timer = datetime.now()\n",
    "    clf_cv = RandomForestClassifier(min_samples_split = 2,\n",
    "                                    criterion = 'entropy',\n",
    "                                    bootstrap = True,\n",
    "                                    n_jobs=-1)\n",
    "    result = par.copy()\n",
    "    result = par.copy()\n",
    "    result['cv_score'] = cross_val_bet(clf_cv, x, y, odds_prob)\n",
    "    yprob_train = clf_cv.predict_proba(x)[:,1]\n",
    "    result['in_sample_score'] = bet_income(y,yprob_train,odds_prob)\n",
    "    result['timer'] = str(datetime.now()-timer)\n",
    "    return result\n",
    "\n",
    "def grid_search_bet_serial(grid, x, y, odds_prob): \n",
    "    cv_results = pd.DataFrame(columns=[key for key in [i for i in iter(grid)][0].keys()]+['cv_score', 'in_sample_score', 'timer'])\n",
    "    for par in iter(grid): \n",
    "        result = cross_val_par(par,x,y,odds_prob)\n",
    "        cv_results = cv_results.append(result, ignore_index=True)\n",
    "    return cv_results"
   ]
  },
  {
   "cell_type": "code",
   "execution_count": 3,
   "metadata": {},
   "outputs": [],
   "source": [
    "##################################################################################\n",
    "####################Hyperparameter tuning#################\n",
    "from sklearn.model_selection import ParameterGrid\n",
    "from sklearn.ensemble import RandomForestClassifier\n",
    "from sklearn.model_selection import KFold\n",
    "\n",
    "#Tuning parameters for the random forest\n",
    "n_estimators = [int(x) for x in np.linspace(start = 200, stop = 1000, num = 5)]\n",
    "max_features = ['auto','sqrt', 'log2']\n",
    "min_samples_leaf = [10,50,100,200,300,400,500]\n",
    "# Create random grid\n",
    "random_grid = {'n_estimators': n_estimators,\n",
    "               'max_features': max_features,\n",
    "               'min_samples_leaf': min_samples_leaf\n",
    "                }\n",
    "grid = ParameterGrid(random_grid)"
   ]
  },
  {
   "cell_type": "code",
   "execution_count": 4,
   "metadata": {},
   "outputs": [
    {
     "data": {
      "text/plain": [
       "max_features                  log2\n",
       "min_samples_leaf               200\n",
       "n_estimators                   200\n",
       "cv_score                 0.0558145\n",
       "in_sample_score            1.79004\n",
       "timer               0:00:02.454058\n",
       "Name: 85, dtype: object"
      ]
     },
     "execution_count": 4,
     "metadata": {},
     "output_type": "execute_result"
    }
   ],
   "source": [
    "grid_search = grid_search_bet_serial(grid,x,y,data_train.odds_prob_draw)\n",
    "#Best fit\n",
    "grid_search.iloc[grid_search.cv_score.argmax()]"
   ]
  },
  {
   "cell_type": "code",
   "execution_count": 16,
   "metadata": {},
   "outputs": [
    {
     "name": "stderr",
     "output_type": "stream",
     "text": [
      "C:\\Users\\nynne\\Anaconda3\\lib\\site-packages\\numpy\\core\\fromnumeric.py:52: FutureWarning: reshape is deprecated and will raise in a subsequent release. Please use .values.reshape(...) instead\n",
      "  return getattr(obj, method)(*args, **kwds)\n"
     ]
    },
    {
     "data": {
      "image/png": "[encoded data removed]",
      "text/plain": [
       "<matplotlib.figure.Figure at 0x135ea25c860>"
      ]
     },
     "metadata": {},
     "output_type": "display_data"
    }
   ],
   "source": [
    "grid_plot2 = grid_search.groupby(['n_estimators','min_samples_leaf'])['cv_score'].mean().reset_index()\n",
    "grid_plot = np.reshape(grid_plot2.cv_score,(len(min_samples_leaf),len(n_estimators)))\n",
    "\n",
    "plt.figure(figsize=(7, 5))\n",
    "plt.imshow(grid_plot)\n",
    "plt.xlabel('N Estimators', fontsize=14)\n",
    "plt.ylabel('Min Samples Leaf', fontsize=14)\n",
    "plt.colorbar()\n",
    "plt.xticks(np.arange(len(n_estimators)), n_estimators)\n",
    "plt.yticks(np.arange(len(min_samples_leaf)), min_samples_leaf)\n",
    "plt.show()"
   ]
  },
  {
   "cell_type": "code",
   "execution_count": 4,
   "metadata": {},
   "outputs": [
    {
     "data": {
      "image/png": "[encoded data removed]",
      "text/plain": [
       "<matplotlib.figure.Figure at 0x2470a87ebe0>"
      ]
     },
     "metadata": {},
     "output_type": "display_data"
    }
   ],
   "source": [
    "#Best fit \n",
    "clf = RandomForestClassifier(max_depth=None, \n",
    "                             max_features='log2', \n",
    "                             min_samples_leaf = 200,\n",
    "                             n_estimators = 200,\n",
    "                             min_samples_split = 2,\n",
    "                             criterion = 'entropy',\n",
    "                             bootstrap = True, \n",
    "                             n_jobs=-1)\n",
    "\n",
    "color = {0: 'xkcd:darkblue', 1: 'darkred',2: 'xkcd:magenta', 3:'xkcd:turquoise', 4:'xkcd:darkgreen', 5:'xkcd:maroon',6:'xkcd:silver' }\n",
    "\n",
    "clf.fit(x,y)\n",
    "odds_prob = data_train.odds_prob_draw\n",
    "yhat = clf.predict(x)     \n",
    "yprob = clf.predict_proba(x)\n",
    "ax = sns.distplot(yprob[:,1], hist=True, kde=True, color=color[4], label='Model')\n",
    "ax = sns.distplot(odds_prob.dropna(), hist=True, kde=True, color=color[1], label = 'Odds')\n",
    "ax.set(xlabel= 'Probability of draw', ylabel = 'Density')\n",
    "plt.legend()\n",
    "plt.show()"
   ]
  },
  {
   "cell_type": "code",
   "execution_count": 6,
   "metadata": {},
   "outputs": [
    {
     "name": "stdout",
     "output_type": "stream",
     "text": [
      "Feature ranking:\n",
      "1. feature 0 (0.251453)\n",
      "2. feature 3 (0.226440)\n",
      "3. feature 2 (0.217504)\n",
      "4. feature 1 (0.114428)\n",
      "5. feature 4 (0.082170)\n",
      "6. feature 5 (0.068816)\n",
      "7. feature 6 (0.039189)\n"
     ]
    },
    {
     "data": {
      "image/png": "[encoded data removed]",
      "text/plain": [
       "<matplotlib.figure.Figure at 0x2470aa76c50>"
      ]
     },
     "metadata": {},
     "output_type": "display_data"
    }
   ],
   "source": [
    "##################################################################################\n",
    "#################### Feature importances #################\n",
    "importances = clf.feature_importances_\n",
    "std = np.std([tree.feature_importances_ for tree in clf.estimators_],\n",
    "             axis=0)\n",
    "imp_names = np.vstack((importances,  list(x.columns.values))).T\n",
    "imp_names = imp_names[imp_names[:, 0].argsort()[::-1]]\n",
    "indices = np.argsort(importances)[::-1]\n",
    "\n",
    "print(\"Feature ranking:\")\n",
    "\n",
    "for f in range(x.shape[1]):\n",
    "    print(\"%d. feature %d (%f)\" % (f + 1, indices[f], importances[indices[f]]))\n",
    "\n",
    "# Feature importances plot\n",
    "plt.figure()\n",
    "plt.title('Feature importances', fontsize=15)\n",
    "plt.bar(range(x.shape[1]), importances[indices],\n",
    "       color=color[1], yerr=std[indices], align='center')\n",
    "plt.xticks(range(x.shape[1]), imp_names[:,1], rotation=-90)\n",
    "plt.gca().yaxis.grid(True)\n",
    "plt.tick_params(labeltop=False, labelright=True)\n",
    "plt.rcParams['axes.edgecolor'] = 'w'\n",
    "plt.rcParams['axes.linewidth'] = 1\n",
    "plt.xlim([-1, x.shape[1]])\n",
    "#plt.savefig('feature_importance.eps', format='eps',bbox_inches='tight')\n",
    "plt.show()"
   ]
  }
 ],
 "metadata": {
  "kernelspec": {
   "display_name": "Python 3",
   "language": "python",
   "name": "python3"
  },
  "language_info": {
   "codemirror_mode": {
    "name": "ipython",
    "version": 3
   },
   "file_extension": ".py",
   "mimetype": "text/x-python",
   "name": "python",
   "nbconvert_exporter": "python",
   "pygments_lexer": "ipython3",
   "version": "3.6.5"
  }
 },
 "nbformat": 4,
 "nbformat_minor": 2
}
