{
 "cells": [
  {
   "cell_type": "markdown",
   "metadata": {},
   "source": [
    "### Grid search for hyperparameters in the neural network\n",
    "1. Load and process data according to modelling pipeline\n",
    "2. Define functions for betting evaluation, cross-validation & grid search\n",
    "3. Perform grid search\n",
    "4. Investigate results to determine optimal hyperparameters. \n"
   ]
  },
  {
   "cell_type": "code",
   "execution_count": 1,
   "metadata": {
    "scrolled": true
   },
   "outputs": [
    {
     "name": "stdout",
     "output_type": "stream",
     "text": [
      "Rows with any missing values: 0.2\n",
      "Missing values:\n",
      "ELO_home            159\n",
      "ELO_away            154\n",
      "home_agg_overall    122\n",
      "home_def_overall    122\n",
      "away_agg_overall    122\n",
      "away_def_overall    122\n",
      "RR                    0\n",
      "dtype: int64\n",
      "Rows with any missing values: 0.0\n"
     ]
    }
   ],
   "source": [
    "import pandas as pd \n",
    "import numpy as np\n",
    "import os \n",
    "import sys \n",
    "import matplotlib.pyplot as plt\n",
    "import seaborn as sns\n",
    "path = r'C:\\Users\\rbjoe\\Dropbox\\Kugejl\\10.semester\\Topics in Social Data Science\\ExamProject\\data'\n",
    "\n",
    "np.random.seed(33)\n",
    "\n",
    "from datetime import datetime \n",
    "time_start = datetime.now()\n",
    "\n",
    "###############################################################################\n",
    "### LOAD DATA\n",
    "data_train = pd.read_csv(path + '\\data_train.csv', index_col=0)\n",
    "data_train = data_train[data_train['league']=='England Premier League']\n",
    "y = data_train['draw']\n",
    "odds_prob = data_train['odds_prob_draw']\n",
    "x = data_train[['ELO_home', 'ELO_away', 'home_agg_overall', 'home_def_overall',\n",
    "                'away_agg_overall', 'away_def_overall', 'RR']]\n",
    "\n",
    "\n",
    "###############################################################################\n",
    "### IMPUTATION \n",
    "#Check for missing values \n",
    "print('Rows with any missing values:', round(x.isnull().any(axis=1).sum()/len(x),2))\n",
    "print('Missing values:\\n', x.isnull().sum(), sep='')\n",
    "\n",
    "## Performance metrics are missing because of burn-in.\n",
    "## Fillout burnin based on later average. \n",
    "x = x.join(data_train[['team_home', 'team_awat']])\n",
    "#x['home_agg_overall'] = x.groupby('team_home').transform(lambda a: a.fillna(a.mean()))\n",
    "x.loc[x['home_agg_overall'].isnull(), 'home_agg_overall'] = x.groupby('team_home')['home_agg_overall'].transform('mean')\n",
    "x.loc[x['home_def_overall'].isnull(), 'home_def_overall'] = x.groupby('team_home')['home_def_overall'].transform('mean')\n",
    "x.loc[x['away_agg_overall'].isnull(), 'away_agg_overall'] = x.groupby('team_awat')['away_agg_overall'].transform('mean')\n",
    "x.loc[x['away_def_overall'].isnull(), 'away_def_overall'] = x.groupby('team_awat')['away_def_overall'].transform('mean')\n",
    "x.drop(['team_home', 'team_awat'], axis=1, inplace=True)\n",
    "\n",
    "#from sklearn.preprocessing import Imputer\n",
    "#x = Imputer(strategy='mean').fit_transform()\n",
    "x = x.fillna(x.mean())\n",
    "\n",
    "\n",
    "print('Rows with any missing values:', round(x.isnull().any(axis=1).sum()/len(x),2))\n",
    "#print('Missing values:\\n', x.isnull().sum(), sep='')\n",
    "\n",
    "###############################################################################\n",
    "### STANDARDIZE\n",
    "from sklearn.preprocessing import StandardScaler\n",
    "scaler = StandardScaler().fit(x.iloc[:,:7])\n",
    "x.iloc[:,:7] = scaler.transform(x.iloc[:,:7])"
   ]
  },
  {
   "cell_type": "code",
   "execution_count": 5,
   "metadata": {},
   "outputs": [],
   "source": [
    "###############################################################################\n",
    "### DEFINE A FEW FUNCTIONS\n",
    "\n",
    "from sklearn.neural_network import MLPClassifier\n",
    "from itertools import product\n",
    "import multiprocessing as mp\n",
    "from functools import partial\n",
    "from sklearn.model_selection import KFold\n",
    "from sklearn.model_selection import ParameterGrid\n",
    "\n",
    "def bet_income(y, prob, odds_prob, bet=1, threshold=0.0):\n",
    "    will_bet = (prob>odds_prob+threshold) #Bet if probability high enough\n",
    "    correct_bets = y[will_bet]          # Bet is correct if y==1. Select chosen bets. \n",
    "#    incorrect_bets = ~y[will_bet]       # Bet is incorrect if y!=1. Select chosen bets\n",
    "    odds = 1/odds_prob[will_bet]        # Calculate odds \n",
    "    \n",
    "    #Calculate income\n",
    "    #income = correct_bets*(odds-1)*(bet)-incorrect_bets*bet #Elementwise\n",
    "    income = correct_bets*odds*bet-will_bet*bet\n",
    "    income = income.sum() #Sum over matrix \n",
    "    \n",
    "    #Calculate income as multiplicator of necessary capital\n",
    "    if will_bet.sum() != 0: \n",
    "        income_factor = income/will_bet.sum() #\n",
    "    else: income_factor = 0\n",
    "    \n",
    "    return income_factor\n",
    "\n",
    "def cross_val_bet(mlp_cv, x, y, odds_prob):\n",
    "    fold = KFold(n_splits=3, shuffle=True)\n",
    "    profit = []\n",
    "    for train, test in fold.split(x): \n",
    "        mlp_cv.fit(x.iloc[train], y.iloc[train])\n",
    "        yprob = mlp_cv.predict_proba(x.iloc[test])\n",
    "    #    print(mlp_cv.score(x.iloc[test], y.iloc[test]))\n",
    "        profit.append(bet_income(y.iloc[test], yprob[:,1], odds_prob.iloc[test]))\n",
    "    \n",
    "    return np.mean(profit)\n",
    "\n",
    "def cross_val_par(par, x, y, odds_prob): \n",
    "    timer = datetime.now()\n",
    "    mlp_cv = MLPClassifier(#hidden_layer_sizes = parameters['layers'], \n",
    "                    activation='relu', solver='adam', \n",
    "#                    alpha = parameters['reg_alpha'], \n",
    "                    learning_rate_init = 10**-3, \n",
    "                    early_stopping =False, \n",
    "                    tol = 10**-4, \n",
    "                    max_iter=500, \n",
    "                    **par)\n",
    "    result = par.copy()\n",
    "    result['cv_score'] = cross_val_bet(mlp_cv, x, y, odds_prob)\n",
    "    yprob_train = mlp_cv.predict_proba(x)[:,1]\n",
    "    result['in_sample_score'] = bet_income(y,yprob_train,odds_prob)\n",
    "    result['timer'] = str(datetime.now()-timer)\n",
    "    return result\n",
    "\n",
    "def grid_search_bet_serial(grid, x, y, odds_prob): \n",
    "    cv_results = pd.DataFrame(columns=[key for key in [i for i in iter(grid)][0].keys()]\n",
    "                                        +['cv_score', 'in_sample_score', 'timer'])\n",
    "    for par in iter(grid): \n",
    "        result = cross_val_par(par,x,y,odds_prob)\n",
    "        cv_results = cv_results.append(result, ignore_index=True)\n",
    "    return cv_results\n",
    "\n",
    "def grid_search_bet(grid, x, y, odds_prob): \n",
    "    pool = mp.Pool(processes = mp.cpu_count())\n",
    "    #results = pool.starmap(cross_val_par, iter(grid))\n",
    "    results = pool.map(partial(cross_val_par, **{'x':x, 'y':y, 'odds_prob':odds_prob}), iter(grid))\n",
    "    cv_results = pd.DataFrame(columns=[key for key in [i for i in iter(grid)][0].keys()]\n",
    "                                        +['cv_score', 'in_sample_score', 'timer'])\n",
    "    for result in results: \n",
    "        cv_results = cv_results.append(result, ignore_index=True)\n",
    "    return cv_results\n"
   ]
  },
  {
   "cell_type": "code",
   "execution_count": 7,
   "metadata": {},
   "outputs": [],
   "source": [
    "###############################################################################\n",
    "### GRID SEARCH\n",
    "\n",
    "#Actual grid \n",
    "params = {'hidden_layer_sizes': [i for i in range(2,90,3)]+\\\n",
    "                             [i for i in product(range(1,50+1,3),range(10,50,10))], \n",
    "          'alpha': [10**-i for i in range(2,6)]\n",
    "          }\n",
    "# Test grid\n",
    "#params = {'hidden_layer_sizes': [2,4],\n",
    "#          'alpha': [10**-i for i in range(1,2)]\n",
    "#          }\n",
    "\n",
    "grid = ParameterGrid(params)\n",
    "\n",
    "if __name__ == '__main__': \n",
    "    cv_results = grid_search_bet_serial(grid,x,y,odds_prob)\n",
    "    cv_results.to_csv(os.getcwd() + '\\\\temp\\\\cv_results.csv')\n"
   ]
  },
  {
   "cell_type": "code",
   "execution_count": 11,
   "metadata": {},
   "outputs": [
    {
     "data": {
      "text/plain": [
       "'C:\\\\Users\\\\rbjoe\\\\Dropbox\\\\Kugejl\\\\10.semester\\\\Topics in Social Data Science\\\\ExamProject\\\\code'"
      ]
     },
     "execution_count": 11,
     "metadata": {},
     "output_type": "execute_result"
    }
   ],
   "source": [
    "os.getcwd()"
   ]
  },
  {
   "cell_type": "code",
   "execution_count": 14,
   "metadata": {
    "scrolled": true
   },
   "outputs": [
    {
     "data": {
      "text/plain": [
       "<matplotlib.collections.PathCollection at 0x23ba02b1a20>"
      ]
     },
     "execution_count": 14,
     "metadata": {},
     "output_type": "execute_result"
    },
    {
     "data": {
      "image/png": "[encoded data removed]",
      "text/plain": [
       "<matplotlib.figure.Figure at 0x23ba025f5c0>"
      ]
     },
     "metadata": {},
     "output_type": "display_data"
    }
   ],
   "source": [
    "### Investigate grid (also used the excel file)\n",
    "### 1L \n",
    "cv_results[(cv_results['hidden_layer_sizes'].str.len()!=2)].to_csv(os.getcwd() + '\\\\temp\\\\cv_results_1L.csv')\n",
    "plt.scatter(cv_results[(cv_results['hidden_layer_sizes'].str.len()!=2) & (cv_results['alpha']<0.1)]['alpha'], \n",
    "         cv_results[(cv_results['hidden_layer_sizes'].str.len()!=2) & (cv_results['alpha']<0.1)]['cv_score'])\n",
    "    ### Choice: 0.01\n"
   ]
  },
  {
   "cell_type": "code",
   "execution_count": 21,
   "metadata": {},
   "outputs": [
    {
     "data": {
      "text/plain": [
       "<matplotlib.collections.PathCollection at 0x23ba03fe4e0>"
      ]
     },
     "execution_count": 21,
     "metadata": {},
     "output_type": "execute_result"
    },
    {
     "data": {
      "image/png": "[encoded data removed]",
      "text/plain": [
       "<matplotlib.figure.Figure at 0x23ba037a080>"
      ]
     },
     "metadata": {},
     "output_type": "display_data"
    }
   ],
   "source": [
    "#    \n",
    "plt.scatter(cv_results[(cv_results['hidden_layer_sizes'].str.len()!=2) & (cv_results['alpha']==0.01)]['hidden_layer_sizes'], \n",
    "         cv_results[(cv_results['hidden_layer_sizes'].str.len()!=2) & (cv_results['alpha']==0.01)]['cv_score'])\n",
    "### CHoice: 32. \n",
    "#    \n"
   ]
  },
  {
   "cell_type": "code",
   "execution_count": 26,
   "metadata": {},
   "outputs": [
    {
     "data": {
      "text/plain": [
       "<matplotlib.collections.PathCollection at 0x23ba0521438>"
      ]
     },
     "execution_count": 26,
     "metadata": {},
     "output_type": "execute_result"
    },
    {
     "data": {
      "image/png": "[encoded data removed]",
      "text/plain": [
       "<matplotlib.figure.Figure at 0x23ba04a0518>"
      ]
     },
     "metadata": {},
     "output_type": "display_data"
    }
   ],
   "source": [
    "#    ### 2L \n",
    "cv_results[(cv_results['hidden_layer_sizes'].str.len()==2)].to_csv(os.getcwd() + '\\\\temp\\\\cv_results_2L.csv')\n",
    "plt.scatter(cv_results[(cv_results['hidden_layer_sizes'].str.len()==2) & (cv_results['alpha']<0.1)]['alpha'], \n",
    "         cv_results[(cv_results['hidden_layer_sizes'].str.len()==2) & (cv_results['alpha']<0.1)]['cv_score'])\n",
    "### Choice: 0.01\n",
    "\n",
    "        "
   ]
  },
  {
   "cell_type": "code",
   "execution_count": 28,
   "metadata": {},
   "outputs": [
    {
     "data": {
      "text/plain": [
       "<matplotlib.collections.PathCollection at 0x23ba1a44438>"
      ]
     },
     "execution_count": 28,
     "metadata": {},
     "output_type": "execute_result"
    },
    {
     "data": {
      "image/png": "[encoded data removed]",
      "text/plain": [
       "<matplotlib.figure.Figure at 0x23ba052b518>"
      ]
     },
     "metadata": {},
     "output_type": "display_data"
    }
   ],
   "source": [
    "#    \n",
    "plt.scatter([i[0] for i in cv_results[(cv_results['hidden_layer_sizes'].str.len()==2) & (cv_results['alpha']<0.1)]['hidden_layer_sizes'].str.slice(start=0)], \n",
    "         cv_results[(cv_results['hidden_layer_sizes'].str.len()==2) & (cv_results['alpha']<0.1)]['cv_score'])\n",
    "### Choice: (13,40). "
   ]
  },
  {
   "cell_type": "code",
   "execution_count": null,
   "metadata": {},
   "outputs": [],
   "source": []
  }
 ],
 "metadata": {
  "kernelspec": {
   "display_name": "Python 3",
   "language": "python",
   "name": "python3"
  },
  "language_info": {
   "codemirror_mode": {
    "name": "ipython",
    "version": 3
   },
   "file_extension": ".py",
   "mimetype": "text/x-python",
   "name": "python",
   "nbconvert_exporter": "python",
   "pygments_lexer": "ipython3",
   "version": "3.6.5"
  }
 },
 "nbformat": 4,
 "nbformat_minor": 2
}
