{
 "cells": [
  {
   "cell_type": "markdown",
   "metadata": {},
   "source": [
    "### Grid search for hyperparameters in the logistic regression model\n",
    "1. Load and process data according to modelling pipeline\n",
    "2. Define functions for betting evaluation, cross-validation & grid search\n",
    "3. Perform grid search\n",
    "4. Investigate results to determine optimal hyperparameters. \n"
   ]
  },
  {
   "cell_type": "code",
   "execution_count": 9,
   "metadata": {},
   "outputs": [
    {
     "data": {
      "text/plain": [
       "(18185, 16)"
      ]
     },
     "execution_count": 9,
     "metadata": {},
     "output_type": "execute_result"
    }
   ],
   "source": [
    "import pandas as pd\n",
    "import matplotlib.pyplot as plt\n",
    "import numpy as np\n",
    "\n",
    "### LOAD DATA\n",
    "\n",
    "## Path to the data folder inside the dropbox\n",
    "db_path = 'C:/Users/dosef/Dropbox/ExamProject/data/'\n",
    "\n",
    "## data set name\n",
    "data_set = 'data_train.csv'\n",
    "\n",
    "## Loading the csv file 'data_train.csv'\n",
    "raw_data = pd.read_csv(db_path + data_set, index_col = 0)\n",
    "\n",
    "data = raw_data.loc[:, ['season', 'league', 'team_home_s', 'team_away_s',\n",
    "                        'team_home', 'team_awat',\n",
    "                        'draw','odds_prob_draw', 'odds_draw',\n",
    "                        'home_agg_overall','home_def_overall','away_agg_overall', 'away_def_overall', \n",
    "                         'RR', 'ELO_home','ELO_away']].copy()\n",
    "\n",
    "\n",
    "data.reset_index(inplace = True)\n",
    "data.drop('index', axis =1, inplace = True)\n",
    "data.shape"
   ]
  },
  {
   "cell_type": "code",
   "execution_count": 10,
   "metadata": {},
   "outputs": [],
   "source": [
    "## Binary target array\n",
    "y = data.loc[:,'draw'].copy()\n",
    "\n",
    "## target array containing odds\n",
    "y_odds = data.loc[:, 'odds_draw'].copy()\n",
    "\n",
    "## target array containing implied probabilities\n",
    "y_probs = data.loc[:, 'odds_prob_draw']\n",
    "\n",
    "## matrix containing explanatory variables\n",
    "x = data.drop(['draw', 'odds_prob_draw', 'odds_draw'], axis=1).copy()\n"
   ]
  },
  {
   "cell_type": "code",
   "execution_count": 11,
   "metadata": {},
   "outputs": [],
   "source": [
    "### IMPUTATION \n",
    "x.loc[x['home_agg_overall'].isnull(), 'home_agg_overall'] = x.groupby('team_home')['home_agg_overall'].transform('mean')\n",
    "x.loc[x['home_def_overall'].isnull(), 'home_def_overall'] = x.groupby('team_home')['home_def_overall'].transform('mean')\n",
    "x.loc[x['away_agg_overall'].isnull(), 'away_agg_overall'] = x.groupby('team_awat')['away_agg_overall'].transform('mean')\n",
    "x.loc[x['away_def_overall'].isnull(), 'away_def_overall'] = x.groupby('team_awat')['away_def_overall'].transform('mean')\n",
    "\n",
    "x = pd.get_dummies(x, columns = ['league'])\n",
    "\n",
    "x.drop(['team_home', 'team_awat','season', 'team_home_s', 'team_away_s'], axis=1, inplace=True)\n",
    "\n",
    "x = x.fillna(x.mean())\n"
   ]
  },
  {
   "cell_type": "code",
   "execution_count": 12,
   "metadata": {},
   "outputs": [],
   "source": [
    "### BETTING PAYOFF FUNCTION\n",
    "def betting_payoff(target, odds, impl_probs, pred_probs):\n",
    "    draw = target.values\n",
    "    bet = pred_probs > impl_probs\n",
    "    payoff = odds[draw & bet]\n",
    "    return payoff.sum()/bet.sum() - 1"
   ]
  },
  {
   "cell_type": "code",
   "execution_count": 13,
   "metadata": {},
   "outputs": [],
   "source": [
    "## STANDARDIZING\n",
    "from sklearn.preprocessing import StandardScaler\n",
    "scaler = StandardScaler().fit(x.iloc[:,:7])\n",
    "x.iloc[:,:7] = scaler.transform(x.iloc[:,:7])"
   ]
  },
  {
   "cell_type": "code",
   "execution_count": 6,
   "metadata": {},
   "outputs": [],
   "source": [
    "## GRID SEARCH FOR THE LOGIT MODEL WITHOUT POLYNOMIAL FEATURES\n",
    "from sklearn.model_selection import KFold\n",
    "from sklearn.linear_model import LogisticRegression\n",
    "\n",
    "## Making a copy of x\n",
    "x_sin_poly = x.copy()\n",
    "\n",
    "## penalty function\n",
    "penalty_func = ['l1','l2']\n",
    "\n",
    "##Inverse of regularization strength\n",
    "inv_reg = np.logspace(-2,4, num = 12, base = np.exp(1))\n",
    "\n",
    "## Dict used to store the results\n",
    "res_sin_poly = dict()\n",
    "\n",
    "for p in penalty_func:\n",
    "    for c in inv_reg:\n",
    "        \n",
    "        ## FUunction used to obtain train and test splits\n",
    "        kf = KFold(n_splits = 10, random_state = 1003, shuffle = True)\n",
    "        \n",
    "        ## Initializing the mean_payoff\n",
    "        mean_payoff = 0\n",
    "        nsplits = float(kf.n_splits)\n",
    "    \n",
    "        ## initializing the model\n",
    "        model = LogisticRegression(penalty = p, C = c)\n",
    "        \n",
    "        for train_index, test_index in kf.split(x_sin_poly):\n",
    "            \n",
    "            ## Creating training and test data sets\n",
    "            x_train, x_test = x_sin_poly.loc[train_index], x_sin_poly.loc[test_index]\n",
    "            y_train, y_test = y[train_index], y[test_index]\n",
    "            \n",
    "            ## fitting the model\n",
    "            model.fit(x_train, y_train)\n",
    "            pred_prob = model.predict_proba(x_test)[:,1]\n",
    "            \n",
    "            ## updating the average payoff\n",
    "            mean_payoff += betting_payoff(y_test, y_odds[test_index], y_probs[test_index], pred_prob)/nsplits\n",
    "        \n",
    "        key = 'penalty: ' + p + ' C: ' + str(c)\n",
    "        res_sin_poly[key] = mean_payoff"
   ]
  },
  {
   "cell_type": "code",
   "execution_count": 7,
   "metadata": {},
   "outputs": [
    {
     "name": "stdout",
     "output_type": "stream",
     "text": [
      "Combination that yields highest cross-validated payoff:  penalty: l1 C: 1.1993961020353856\n",
      "Highest cross-validated payoff:  -0.079\n"
     ]
    }
   ],
   "source": [
    "import operator\n",
    "print('Combination that yields highest cross-validated payoff: ', max(res_sin_poly.items(), key = operator.itemgetter(1))[0])\n",
    "print('Highest cross-validated payoff: ', round(res_sin_poly[max(res_sin_poly.items(), key = operator.itemgetter(1))[0]],3))"
   ]
  },
  {
   "cell_type": "code",
   "execution_count": 15,
   "metadata": {},
   "outputs": [
    {
     "name": "stdout",
     "output_type": "stream",
     "text": [
      "In-sample payoff:  -0.055\n"
     ]
    }
   ],
   "source": [
    "## Retraining the model on the entire data set\n",
    "\n",
    "model = LogisticRegression(penalty = 'l1', C = 1.1993961020353856)\n",
    "\n",
    "model.fit(x_sin_poly,y)\n",
    "pred_prob = model.predict_proba(x_sin_poly)[:,1]\n",
    "\n",
    "print('In-sample payoff: ', round(betting_payoff(y, y_odds, y_probs, pred_prob),3))"
   ]
  },
  {
   "cell_type": "code",
   "execution_count": 8,
   "metadata": {},
   "outputs": [],
   "source": [
    "## ADDING POLYNOMIAL FEATURES\n",
    "from sklearn.preprocessing import PolynomialFeatures\n",
    "x = PolynomialFeatures().fit_transform(x)"
   ]
  },
  {
   "cell_type": "code",
   "execution_count": 9,
   "metadata": {},
   "outputs": [],
   "source": [
    "## GRID SEARCH FOR THE LOGIT MODEL WITH POLYNOMIAL FEATURES\n",
    "\n",
    "## penalty function\n",
    "penalty_func = ['l1','l2']\n",
    "\n",
    "##Inverse of regularization strength\n",
    "inv_reg = np.logspace(-2,4, num = 12, base = np.exp(1))\n",
    "\n",
    "## Dict used to store the results\n",
    "res = dict()\n",
    "\n",
    "for p in penalty_func:\n",
    "    for c in inv_reg:\n",
    "        \n",
    "        ## FUunction used to obtain train and test splits\n",
    "        kf = KFold(n_splits = 10, random_state = 1003, shuffle = True)\n",
    "        \n",
    "        ## Initializing the mean_payoff\n",
    "        mean_payoff = 0\n",
    "        nsplits = float(kf.n_splits)\n",
    "    \n",
    "        ## initializing the model\n",
    "        model = LogisticRegression(penalty = p, C = c)\n",
    "        \n",
    "        for train_index, test_index in kf.split(x):\n",
    "            \n",
    "            ## Creating training and test data sets\n",
    "            x_train, x_test = x[train_index], x[test_index]\n",
    "            y_train, y_test = y[train_index], y[test_index]\n",
    "            \n",
    "            ## fitting the model\n",
    "            model.fit(x_train, y_train)\n",
    "            pred_prob = model.predict_proba(x_test)\n",
    "            \n",
    "            ## updating the average payoff\n",
    "            mean_payoff += betting_payoff(y_test, y_odds[test_index], y_probs[test_index], pred_prob[:,1])/nsplits\n",
    "        \n",
    "        key = 'penalty: ' + p + ' C: ' + str(c)\n",
    "        res[key] = mean_payoff\n",
    "        "
   ]
  },
  {
   "cell_type": "code",
   "execution_count": 10,
   "metadata": {},
   "outputs": [
    {
     "name": "stdout",
     "output_type": "stream",
     "text": [
      "Combination that yields highest cross-validated payoff:  penalty: l2 C: 18.34011815147647\n",
      "Highest cross-validated payoff:  -0.045\n"
     ]
    }
   ],
   "source": [
    "import operator\n",
    "print('Combination that yields highest cross-validated payoff: ', max(res.items(), key = operator.itemgetter(1))[0])\n",
    "print('Highest cross-validated payoff: ', round(res[max(res.items(), key = operator.itemgetter(1))[0]],3))"
   ]
  },
  {
   "cell_type": "code",
   "execution_count": 11,
   "metadata": {},
   "outputs": [
    {
     "name": "stdout",
     "output_type": "stream",
     "text": [
      "In-sample payoff:  0.052\n"
     ]
    }
   ],
   "source": [
    "## Retraining the model on the entire data set\n",
    "model = LogisticRegression(penalty = 'l2', C = 18.34011815147647)\n",
    "\n",
    "model.fit(x,y)\n",
    "pred_prob = model.predict_proba(x)[:,1]\n",
    "\n",
    "print('In-sample payoff: ', round(betting_payoff(y, y_odds, y_probs, pred_prob),3))"
   ]
  }
 ],
 "metadata": {
  "kernelspec": {
   "display_name": "Python 3",
   "language": "python",
   "name": "python3"
  },
  "language_info": {
   "codemirror_mode": {
    "name": "ipython",
    "version": 3
   },
   "file_extension": ".py",
   "mimetype": "text/x-python",
   "name": "python",
   "nbconvert_exporter": "python",
   "pygments_lexer": "ipython3",
   "version": "3.6.4"
  }
 },
 "nbformat": 4,
 "nbformat_minor": 2
}
